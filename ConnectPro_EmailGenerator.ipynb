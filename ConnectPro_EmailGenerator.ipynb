{
 "cells": [
  {
   "cell_type": "code",
   "execution_count": 1,
   "id": "8176a5e0-03b0-48fe-940f-c47b6c72572d",
   "metadata": {},
   "outputs": [
    {
     "name": "stdout",
     "output_type": "stream",
     "text": [
      "The concept of gravitation has been studied and described by various scientists throughout history. While it's difficult to pinpoint a single person as the \"first\" to discover gravitation, I can provide some key milestones:\n",
      "\n",
      "1. **Ancient Greece:** Aristotle (384-322 BCE) and Epicurus (341-270 BCE) discussed the concept of natural motion and the tendency of objects to move towards their natural place, which laid the groundwork for later ideas about gravity.\n",
      "\n",
      "2. **Galileo Galilei (1564-1642):** Galileo is often credited with being the first scientist to study gravity systematically. He conducted experiments on falling objects, observing that they accelerate towards the ground at a constant rate, regardless of their mass.\n",
      "\n",
      "3. **Johannes Kepler (1571-1630):** Kepler discovered the three laws of planetary motion, which describe the paths of planets around the Sun. His work laid the foundation for later theories of gravity.\n",
      "\n",
      "4. **Sir Isaac Newton (1643-1727):** Newton is widely recognized as the scientist who formulated the law of universal gravitation. In his groundbreaking work, \"Philosophiæ Naturalis Principia Mathematica\" (1687), he presented the law of gravity as a fundamental force that governs the behavior of objects on Earth and in the universe.\n",
      "\n",
      "Newton's law of gravity states that every point mass attracts every other point mass by a force acting along the line intersecting both points. This law has been widely accepted and remains a cornerstone of classical mechanics.\n",
      "\n",
      "While it's difficult to identify a single person as the \"first\" to discover gravitation, Sir Isaac Newton's work on the law of universal gravitation is a major milestone in the development of our understanding of gravity.\n"
     ]
    }
   ],
   "source": [
    "from langchain_groq import ChatGroq\n",
    "\n",
    "llm = ChatGroq(\n",
    "    temperature=0, \n",
    "    groq_api_key='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', \n",
    "    model_name=\"llama-3.1-70b-versatile\"\n",
    ")\n",
    "\n",
    "response = llm.invoke(\"The first person to discover Gravitation ...\")\n",
    "print(response.content)"
   ]
  },
  {
   "cell_type": "code",
   "execution_count": 2,
   "id": "0afd740b-9a6b-4bf9-9e2b-4c4a34af2f53",
   "metadata": {},
   "outputs": [
    {
     "name": "stderr",
     "output_type": "stream",
     "text": [
      "USER_AGENT environment variable not set, consider setting it to identify your requests.\n"
     ]
    },
    {
     "name": "stdout",
     "output_type": "stream",
     "text": [
      "Apply for Product Developer II, Global Apparel\n",
      "\n",
      "Search JobsSkip navigationSearch JobsNIKE, INC. JOBSContract JobsJoin The Talent CommunityLife @ NikeOverviewBenefitsBrandsOverviewJordanConverseTeamsOverviewAdministrative SupportAdvanced InnovationAir Manufacturing InnovationAviationCommunicationsCustomer ServiceDesignDigitalFacilitiesFinance & AccountingGovernment & Public AffairsHuman ResourcesInsights & AnalyticsLegalManufacturing & EngineeringMarketingMerchandisingPlanningPrivacyProcurementProduct Creation, Development & ManagementRetail CorporateRetail StoresSalesSocial & Community ImpactSports MarketingStrategic PlanningSupply Chain, Distribution & LogisticsSustainabilityTechnologyLocationsOverviewNike WHQNike New York HQEHQ: Hilversum, The NetherlandsELC: Laakdal, BelgiumGreater China HQDiversity, Equity & InclusionOverviewMilitary InclusionDisability InclusionIndigenous InclusionInternshipsProduct Creation, Development & ManagementProduct Developer II, Global ApparelHong Kong Island, Hong KongBecome a Part of the NIKE, Inc. TeamNIKE, Inc. does more than outfit the world’s best athletes. It is a place to explore potential, obliterate boundaries and push out the edges of what can be. The company looks for people who can grow, think, dream and create. Its culture thrives by embracing diversity and rewarding imagination. The brand seeks achievers, leaders and visionaries. At NIKE, Inc. it’s about each person bringing skills and passion to a challenging and constantly evolving game.The first spark of a product idea sets the NIKE, Inc. Product team into motion. The team of developers, testers, engineers, designers and managers obsess over Nike’s iconic silhouettes and create groundbreaking new styles. They collaborate, ideate and refine products’ construction, fit and materials. They maintain a keen understanding of consumer and market trends. They skillfully operate at the intersection of buyer needs, technical feasibility and business objectives. And they work lockstep with Merchandising, Design, Manufacturing and others to produce the final result: products that reflect the soul of sport and inspire athletes to reach new levels of performance.Core Accountabilities:The Product Developer coordinates the product creation process from initial concept to commercialization and production for assigned models.Leads on time delivery and development according to critical dates, product specification, sustainability, performance, and profitability goals.Collaborates with Design, Brand and Category Management as well as Merchandising, and Manufacturing to effectively execute product development goals and deliverables.Creates and maintains appropriate documentation for assigned products; ensures all appropriate development documentation is completed, including product specs, costing and prototype notes.Tracks and facilitates sampling and prototyping for products; identifies and addresses key issues and challenges in construction/manufacturing and plans accordingly to deliver proven and tested product.Monitors and communicates progress and challenges throughout the product testing process to meet product integrity requirements.The Product Developer keeps abreast of market trends, team goals, new technology and consumer needs throughout the development process.Engages appropriately to ensure projects are completed within corporate guidelines and goals for all facets of product creation. Requirements of the position include:Bachelor degree with at least 3 years of relevant experience.Passionate about apparel development and manufacturing.Knowledge of apparel manufacturing, costing and garment fit.Ability to read product specs and understand relationships.Demonstrated project management and problem solving skills.Team player; able to work in an environment with high inter-dependencies between teams and cross-cultural colleagues.Staunch believer in continuous self-improvement, leading with empathy, compassion and team-work.Demonstrated verbal and written communication skills with an ability to clearly articulate goals and objectives. Proficient with Microsoft Excel, PowerPoint, Word, and OutlookNIKE, Inc. is a growth company that looks for team members to grow with it. Nike offers a generous total rewards package, casual work environment, a diverse and inclusive culture, and an electric atmosphere for professional development. No matter the location, or the role, every Nike employee shares one galvanizing mission: To bring inspiration and innovation to every athlete* in the world.NIKE, Inc. is committed to employing a diverse workforce. Qualified applicants will receive consideration without regard to race, color, religion, sex, national origin, age, sexual orientation, gender identity, gender expression, veteran status, or disability.How We HireAt NIKE, Inc. we promise to provide a premium, inclusive, compelling and authentic candidate experience. Delivering on this promise means we allow you to be at your best — and to do that, you need to understand how the hiring process works. Transparency is key.\n",
      "\n",
      "* This overview explains our hiring process for corporate roles. Note there may be different hiring steps involved for non-corporate roles.Start nowBenefitsWhether it’s transportation or financial health, we continually invest in our employees to help them achieve greatness — inside and outside of work. All who work here should be able to realize their full potential.Employee Assistance ProgramHolidaysMedical PlanPaid Time Off (PTO)Product DiscountsLearn moreFIND A STOREBECOME A MEMBERSIGN UP FOR EMAILSEND US FEEDBACKSTUDENT DISCOUNTSGET HELPGET HELPOrder StatusDeliveryReturnsPayment OptionsContact Us On Nike.com InquiriesContact Us On All Other InquiriesABOUT NIKEABOUT NIKENewsCareersInvestorsSustainabilityIndia© 2024 Nike, Inc. All Rights ReservedGuidesNike AdaptNike Air MaxNike FlyleatherNike PegasusNike Zoom FlyNike AirNike FlyEaseNike FreeNike ReactNike ZoomXNike Air Force 1Nike FlyknitNike JoyrideNike VaporflyTerms of SaleTerms of UseNike Privacy Policy\n"
     ]
    }
   ],
   "source": [
    "\n",
    "from langchain_community.document_loaders import WebBaseLoader\n",
    "\n",
    "loader = WebBaseLoader(\"https://jobs.nike.com/job/R-35436\")\n",
    "page_data = loader.load().pop().page_content\n",
    "print(page_data)"
   ]
  },
  {
   "cell_type": "code",
   "execution_count": 3,
   "id": "eed23b44-6df4-4c8a-be58-965f7f11ea76",
   "metadata": {},
   "outputs": [
    {
     "data": {
      "text/plain": [
       "str"
      ]
     },
     "execution_count": 3,
     "metadata": {},
     "output_type": "execute_result"
    }
   ],
   "source": [
    "from langchain_core.prompts import PromptTemplate\n",
    "\n",
    "prompt_extract = PromptTemplate.from_template(\n",
    "        \"\"\"\n",
    "        ### SCRAPED TEXT FROM WEBSITE:\n",
    "        {page_data}\n",
    "        ### INSTRUCTION:\n",
    "        The scraped text is from the career's page of a website.\n",
    "        Your job is to extract the job postings and return them in JSON format containing the \n",
    "        following keys: `role`, `experience`, `skills` and `description`.\n",
    "        Only return the valid JSON.\n",
    "        ### VALID JSON (NO PREAMBLE):    \n",
    "        \"\"\"\n",
    ")\n",
    "\n",
    "chain_extract = prompt_extract | llm \n",
    "res = chain_extract.invoke(input={'page_data':page_data})\n",
    "type(res.content)"
   ]
  },
  {
   "cell_type": "code",
   "execution_count": 4,
   "id": "a8ef7d99-ff4e-4e22-9ad5-2f8ec1ec9a66",
   "metadata": {},
   "outputs": [
    {
     "data": {
      "text/plain": [
       "{'role': 'Product Developer II, Global Apparel',\n",
       " 'experience': 'At least 3 years of relevant experience',\n",
       " 'skills': ['Passionate about apparel development and manufacturing',\n",
       "  'Knowledge of apparel manufacturing, costing and garment fit',\n",
       "  'Ability to read product specs and understand relationships',\n",
       "  'Demonstrated project management and problem solving skills',\n",
       "  'Team player; able to work in an environment with high inter-dependencies between teams and cross-cultural colleagues',\n",
       "  'Demonstrated verbal and written communication skills with an ability to clearly articulate goals and objectives',\n",
       "  'Proficient with Microsoft Excel, PowerPoint, Word, and Outlook'],\n",
       " 'description': 'The Product Developer coordinates the product creation process from initial concept to commercialization and production for assigned models. Leads on time delivery and development according to critical dates, product specification, sustainability, performance, and profitability goals. Collaborates with Design, Brand and Category Management as well as Merchandising, and Manufacturing to effectively execute product development goals and deliverables.'}"
      ]
     },
     "execution_count": 4,
     "metadata": {},
     "output_type": "execute_result"
    }
   ],
   "source": [
    "from langchain_core.output_parsers import JsonOutputParser\n",
    "\n",
    "json_parser = JsonOutputParser()\n",
    "json_res = json_parser.parse(res.content)\n",
    "json_res"
   ]
  },
  {
   "cell_type": "code",
   "execution_count": 5,
   "id": "a48f638a-d095-4191-918b-b54d973b6e00",
   "metadata": {},
   "outputs": [
    {
     "data": {
      "text/plain": [
       "dict"
      ]
     },
     "execution_count": 5,
     "metadata": {},
     "output_type": "execute_result"
    }
   ],
   "source": [
    "type(json_res)"
   ]
  },
  {
   "cell_type": "code",
   "execution_count": 6,
   "id": "491b4549-977d-4579-a9c6-244ca9eb6f74",
   "metadata": {},
   "outputs": [
    {
     "data": {
      "text/html": [
       "<div>\n",
       "<style scoped>\n",
       "    .dataframe tbody tr th:only-of-type {\n",
       "        vertical-align: middle;\n",
       "    }\n",
       "\n",
       "    .dataframe tbody tr th {\n",
       "        vertical-align: top;\n",
       "    }\n",
       "\n",
       "    .dataframe thead th {\n",
       "        text-align: right;\n",
       "    }\n",
       "</style>\n",
       "<table border=\"1\" class=\"dataframe\">\n",
       "  <thead>\n",
       "    <tr style=\"text-align: right;\">\n",
       "      <th></th>\n",
       "      <th>Techstack</th>\n",
       "      <th>Links</th>\n",
       "    </tr>\n",
       "  </thead>\n",
       "  <tbody>\n",
       "    <tr>\n",
       "      <th>0</th>\n",
       "      <td>React, Node.js, MongoDB</td>\n",
       "      <td>https://example.com/react-portfolio</td>\n",
       "    </tr>\n",
       "    <tr>\n",
       "      <th>1</th>\n",
       "      <td>Angular,.NET, SQL Server</td>\n",
       "      <td>https://example.com/angular-portfolio</td>\n",
       "    </tr>\n",
       "    <tr>\n",
       "      <th>2</th>\n",
       "      <td>Vue.js, Ruby on Rails, PostgreSQL</td>\n",
       "      <td>https://example.com/vue-portfolio</td>\n",
       "    </tr>\n",
       "    <tr>\n",
       "      <th>3</th>\n",
       "      <td>Python, Django, MySQL</td>\n",
       "      <td>https://example.com/python-portfolio</td>\n",
       "    </tr>\n",
       "    <tr>\n",
       "      <th>4</th>\n",
       "      <td>Java, Spring Boot, Oracle</td>\n",
       "      <td>https://example.com/java-portfolio</td>\n",
       "    </tr>\n",
       "    <tr>\n",
       "      <th>5</th>\n",
       "      <td>Flutter, Firebase, GraphQL</td>\n",
       "      <td>https://example.com/flutter-portfolio</td>\n",
       "    </tr>\n",
       "    <tr>\n",
       "      <th>6</th>\n",
       "      <td>WordPress, PHP, MySQL</td>\n",
       "      <td>https://example.com/wordpress-portfolio</td>\n",
       "    </tr>\n",
       "    <tr>\n",
       "      <th>7</th>\n",
       "      <td>Magento, PHP, MySQL</td>\n",
       "      <td>https://example.com/magento-portfolio</td>\n",
       "    </tr>\n",
       "    <tr>\n",
       "      <th>8</th>\n",
       "      <td>React Native, Node.js, MongoDB</td>\n",
       "      <td>https://example.com/react-native-portfolio</td>\n",
       "    </tr>\n",
       "    <tr>\n",
       "      <th>9</th>\n",
       "      <td>iOS, Swift, Core Data</td>\n",
       "      <td>https://example.com/ios-portfolio</td>\n",
       "    </tr>\n",
       "    <tr>\n",
       "      <th>10</th>\n",
       "      <td>Android, Java, Room Persistence</td>\n",
       "      <td>https://example.com/android-portfolio</td>\n",
       "    </tr>\n",
       "    <tr>\n",
       "      <th>11</th>\n",
       "      <td>Kotlin, Android, Firebase</td>\n",
       "      <td>https://example.com/kotlin-android-portfolio</td>\n",
       "    </tr>\n",
       "    <tr>\n",
       "      <th>12</th>\n",
       "      <td>Android TV, Kotlin, Android NDK</td>\n",
       "      <td>https://example.com/android-tv-portfolio</td>\n",
       "    </tr>\n",
       "    <tr>\n",
       "      <th>13</th>\n",
       "      <td>iOS, Swift, ARKit</td>\n",
       "      <td>https://example.com/ios-ar-portfolio</td>\n",
       "    </tr>\n",
       "    <tr>\n",
       "      <th>14</th>\n",
       "      <td>Cross-platform, Xamarin, Azure</td>\n",
       "      <td>https://example.com/xamarin-portfolio</td>\n",
       "    </tr>\n",
       "    <tr>\n",
       "      <th>15</th>\n",
       "      <td>Backend, Kotlin, Spring Boot</td>\n",
       "      <td>https://example.com/kotlin-backend-portfolio</td>\n",
       "    </tr>\n",
       "    <tr>\n",
       "      <th>16</th>\n",
       "      <td>Frontend, TypeScript, Angular</td>\n",
       "      <td>https://example.com/typescript-frontend-portfolio</td>\n",
       "    </tr>\n",
       "    <tr>\n",
       "      <th>17</th>\n",
       "      <td>Full-stack, JavaScript, Express.js</td>\n",
       "      <td>https://example.com/full-stack-js-portfolio</td>\n",
       "    </tr>\n",
       "    <tr>\n",
       "      <th>18</th>\n",
       "      <td>Machine Learning, Python, TensorFlow</td>\n",
       "      <td>https://example.com/ml-python-portfolio</td>\n",
       "    </tr>\n",
       "    <tr>\n",
       "      <th>19</th>\n",
       "      <td>DevOps, Jenkins, Docker</td>\n",
       "      <td>https://example.com/devops-portfolio</td>\n",
       "    </tr>\n",
       "  </tbody>\n",
       "</table>\n",
       "</div>"
      ],
      "text/plain": [
       "                               Techstack  \\\n",
       "0                React, Node.js, MongoDB   \n",
       "1               Angular,.NET, SQL Server   \n",
       "2      Vue.js, Ruby on Rails, PostgreSQL   \n",
       "3                  Python, Django, MySQL   \n",
       "4              Java, Spring Boot, Oracle   \n",
       "5             Flutter, Firebase, GraphQL   \n",
       "6                  WordPress, PHP, MySQL   \n",
       "7                    Magento, PHP, MySQL   \n",
       "8         React Native, Node.js, MongoDB   \n",
       "9                  iOS, Swift, Core Data   \n",
       "10       Android, Java, Room Persistence   \n",
       "11             Kotlin, Android, Firebase   \n",
       "12       Android TV, Kotlin, Android NDK   \n",
       "13                     iOS, Swift, ARKit   \n",
       "14        Cross-platform, Xamarin, Azure   \n",
       "15          Backend, Kotlin, Spring Boot   \n",
       "16         Frontend, TypeScript, Angular   \n",
       "17    Full-stack, JavaScript, Express.js   \n",
       "18  Machine Learning, Python, TensorFlow   \n",
       "19               DevOps, Jenkins, Docker   \n",
       "\n",
       "                                                Links  \n",
       "0                 https://example.com/react-portfolio  \n",
       "1               https://example.com/angular-portfolio  \n",
       "2                   https://example.com/vue-portfolio  \n",
       "3                https://example.com/python-portfolio  \n",
       "4                  https://example.com/java-portfolio  \n",
       "5               https://example.com/flutter-portfolio  \n",
       "6             https://example.com/wordpress-portfolio  \n",
       "7               https://example.com/magento-portfolio  \n",
       "8          https://example.com/react-native-portfolio  \n",
       "9                   https://example.com/ios-portfolio  \n",
       "10              https://example.com/android-portfolio  \n",
       "11       https://example.com/kotlin-android-portfolio  \n",
       "12           https://example.com/android-tv-portfolio  \n",
       "13               https://example.com/ios-ar-portfolio  \n",
       "14              https://example.com/xamarin-portfolio  \n",
       "15       https://example.com/kotlin-backend-portfolio  \n",
       "16  https://example.com/typescript-frontend-portfolio  \n",
       "17        https://example.com/full-stack-js-portfolio  \n",
       "18            https://example.com/ml-python-portfolio  \n",
       "19               https://example.com/devops-portfolio  "
      ]
     },
     "execution_count": 6,
     "metadata": {},
     "output_type": "execute_result"
    }
   ],
   "source": [
    "import pandas as pd\n",
    "\n",
    "df = pd.read_csv(\"my_portfolio.csv\")\n",
    "df"
   ]
  },
  {
   "cell_type": "code",
   "execution_count": 7,
   "id": "0afbb5eb-66db-4327-825d-f902bbd0e535",
   "metadata": {},
   "outputs": [],
   "source": [
    "import uuid\n",
    "import chromadb\n",
    "\n",
    "client = chromadb.PersistentClient('vectorstore')\n",
    "collection = client.get_or_create_collection(name=\"portfolio\")\n",
    "\n",
    "if not collection.count():\n",
    "    for _, row in df.iterrows():\n",
    "        collection.add(documents=row[\"Techstack\"],\n",
    "                       metadatas={\"links\": row[\"Links\"]},\n",
    "                       ids=[str(uuid.uuid4())])"
   ]
  },
  {
   "cell_type": "code",
   "execution_count": 13,
   "id": "df535efe-e599-41f5-acff-c45efa393410",
   "metadata": {},
   "outputs": [
    {
     "data": {
      "text/plain": [
       "[[{'links': 'https://example.com/ml-python-portfolio'},\n",
       "  {'links': 'https://example.com/devops-portfolio'}],\n",
       " [{'links': 'https://example.com/ml-python-portfolio'},\n",
       "  {'links': 'https://example.com/magento-portfolio'}],\n",
       " [{'links': 'https://example.com/ios-portfolio'},\n",
       "  {'links': 'https://example.com/ml-python-portfolio'}],\n",
       " [{'links': 'https://example.com/devops-portfolio'},\n",
       "  {'links': 'https://example.com/ml-python-portfolio'}],\n",
       " [{'links': 'https://example.com/xamarin-portfolio'},\n",
       "  {'links': 'https://example.com/android-portfolio'}],\n",
       " [{'links': 'https://example.com/ml-python-portfolio'},\n",
       "  {'links': 'https://example.com/ios-ar-portfolio'}],\n",
       " [{'links': 'https://example.com/ml-python-portfolio'},\n",
       "  {'links': 'https://example.com/xamarin-portfolio'}]]"
      ]
     },
     "execution_count": 13,
     "metadata": {},
     "output_type": "execute_result"
    }
   ],
   "source": [
    "links = collection.query(query_texts=job['skills'], n_results=2).get('metadatas', [])\n",
    "links"
   ]
  },
  {
   "cell_type": "code",
   "execution_count": 11,
   "id": "53a5412a-02d4-4aa9-8760-9a10e2d558f7",
   "metadata": {},
   "outputs": [
    {
     "data": {
      "text/plain": [
       "['Passionate about apparel development and manufacturing',\n",
       " 'Knowledge of apparel manufacturing, costing and garment fit',\n",
       " 'Ability to read product specs and understand relationships',\n",
       " 'Demonstrated project management and problem solving skills',\n",
       " 'Team player; able to work in an environment with high inter-dependencies between teams and cross-cultural colleagues',\n",
       " 'Demonstrated verbal and written communication skills with an ability to clearly articulate goals and objectives',\n",
       " 'Proficient with Microsoft Excel, PowerPoint, Word, and Outlook']"
      ]
     },
     "execution_count": 11,
     "metadata": {},
     "output_type": "execute_result"
    }
   ],
   "source": [
    "job = json_res\n",
    "job['skills']"
   ]
  },
  {
   "cell_type": "code",
   "execution_count": 14,
   "id": "2678c7b4-58ba-4141-9303-fe3c3f208478",
   "metadata": {},
   "outputs": [
    {
     "data": {
      "text/plain": [
       "{'role': 'Product Developer II, Global Apparel',\n",
       " 'experience': 'At least 3 years of relevant experience',\n",
       " 'skills': ['Passionate about apparel development and manufacturing',\n",
       "  'Knowledge of apparel manufacturing, costing and garment fit',\n",
       "  'Ability to read product specs and understand relationships',\n",
       "  'Demonstrated project management and problem solving skills',\n",
       "  'Team player; able to work in an environment with high inter-dependencies between teams and cross-cultural colleagues',\n",
       "  'Demonstrated verbal and written communication skills with an ability to clearly articulate goals and objectives',\n",
       "  'Proficient with Microsoft Excel, PowerPoint, Word, and Outlook'],\n",
       " 'description': 'The Product Developer coordinates the product creation process from initial concept to commercialization and production for assigned models. Leads on time delivery and development according to critical dates, product specification, sustainability, performance, and profitability goals. Collaborates with Design, Brand and Category Management as well as Merchandising, and Manufacturing to effectively execute product development goals and deliverables.'}"
      ]
     },
     "execution_count": 14,
     "metadata": {},
     "output_type": "execute_result"
    }
   ],
   "source": [
    "job"
   ]
  },
  {
   "cell_type": "code",
   "execution_count": 15,
   "id": "87d2f88c-1309-4f13-946d-dd42f7c12c8a",
   "metadata": {},
   "outputs": [
    {
     "name": "stdout",
     "output_type": "stream",
     "text": [
      "Subject: Application for Product Developer II, Global Apparel Role\n",
      "\n",
      "Dear Hiring Manager,\n",
      "\n",
      "I am excited to apply for the Product Developer II, Global Apparel position, as it aligns with my passion for apparel development and manufacturing. With over three years of relevant experience in the industry, I am confident in my ability to coordinate the product creation process from initial concept to commercialization and production.\n",
      "\n",
      "Throughout my career, I have developed extensive knowledge of garment fit, costing, and product specifications. My expertise in managing the product creation process has allowed me to successfully lead on-time delivery and development according to critical dates, product specifications, sustainability, performance, and profitability goals.\n",
      "\n",
      "As a seasoned project manager, I have honed my problem-solving skills, ensuring that critical dates, product specifications, and sustainability goals are met effectively. My ability to collaborate seamlessly with cross-functional teams, including Design, Brand, and Category Management, as well as Merchandising and Manufacturing, has facilitated the successful execution of product development goals.\n",
      "\n",
      "In addition to my technical skills, I possess excellent verbal and written communication skills, which enable me to clearly articulate goals and objectives. I am proficient in Microsoft Excel, PowerPoint, Word, and Outlook, allowing me to effectively communicate with colleagues and stakeholders.\n",
      "\n",
      "As a team player with experience working in a cross-cultural environment, I am well-equipped to navigate high inter-dependencies between teams and colleagues. I am excited about the opportunity to join your team and contribute my skills and experience to drive product development goals.\n",
      "\n",
      "Thank you for considering my application. I would welcome the opportunity to discuss my qualifications further.\n",
      "\n",
      "Best regards,\n",
      "Siri\n"
     ]
    }
   ],
   "source": [
    "prompt_email = PromptTemplate.from_template(\n",
    "        \"\"\"\n",
    "        ### JOB DESCRIPTION:\n",
    "        {job_description}\n",
    "        \n",
    "        ### INSTRUCTION:\n",
    "        You are Siri, a Product Developer II with over three years of relevant experience \n",
    "        in the apparel industry. With a deep passion for apparel development and \n",
    "        manufacturing, Siri brings extensive knowledge of garment fit, costing, and \n",
    "        product specifications. Expertise in managing the product creation process from \n",
    "        initial concept through commercialization and production is a hallmark of your \n",
    "        skill set. Demonstrated project management and problem-solving abilities ensure \n",
    "        that critical dates, product specifications, and sustainability goals are met \n",
    "        effectively. Collaborating seamlessly with Design, Brand, and Category Management,\n",
    "        as well as Merchandising and Manufacturing teams, facilitates the successful \n",
    "        execution of product development goals. Proficiency in Microsoft Excel, \n",
    "        PowerPoint, Word, and Outlook enhances the ability to articulate objectives \n",
    "        clearly and contribute as a valuable team player in a cross-cultural environment.\n",
    "        Do not provide a preamble.\n",
    "        ### EMAIL (NO PREAMBLE):\n",
    "        \n",
    "        \"\"\"\n",
    "        )\n",
    "\n",
    "chain_email = prompt_email | llm\n",
    "res = chain_email.invoke({\"job_description\": str(job), \"link_list\": links})\n",
    "print(res.content)\n"
   ]
  },
  {
   "cell_type": "code",
   "execution_count": null,
   "id": "362c9a2c-24d3-43d4-8219-b2401b0d2982",
   "metadata": {},
   "outputs": [],
   "source": []
  }
 ],
 "metadata": {
  "kernelspec": {
   "display_name": "Python 3 (ipykernel)",
   "language": "python",
   "name": "python3"
  },
  "language_info": {
   "codemirror_mode": {
    "name": "ipython",
    "version": 3
   },
   "file_extension": ".py",
   "mimetype": "text/x-python",
   "name": "python",
   "nbconvert_exporter": "python",
   "pygments_lexer": "ipython3",
   "version": "3.12.3"
  }
 },
 "nbformat": 4,
 "nbformat_minor": 5
}
