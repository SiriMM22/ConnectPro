{
 "cells": [
  {
   "cell_type": "code",
   "execution_count": 2,
   "id": "450e0d76",
   "metadata": {},
   "outputs": [
    {
     "name": "stdout",
     "output_type": "stream",
     "text": [
      "The concept of gravitation has been studied and described by various scientists throughout history. While it's difficult to pinpoint a single person as the \"first\" to discover gravitation, I can provide some key milestones:\n",
      "\n",
      "1. **Ancient Greece:** Aristotle (384-322 BCE) and Epicurus (341-270 BCE) discussed the concept of natural motion and the tendency of objects to move towards their natural place, which laid the groundwork for later ideas about gravity.\n",
      "\n",
      "2. **Galileo Galilei (1564-1642):** Galileo is often credited with being the first scientist to study gravity systematically. He conducted experiments on falling objects, observing that they accelerate towards the ground at a constant rate, regardless of their mass or composition.\n",
      "\n",
      "3. **Johannes Kepler (1571-1630):** Kepler, a German mathematician and astronomer, discovered the three laws of planetary motion, which described the paths of planets around the Sun. His work laid the foundation for later theories of gravity.\n",
      "\n",
      "4. **Sir Isaac Newton (1643-1727):** Newton is often credited with the discovery of gravity as we understand it today. In his groundbreaking work, \"Philosophiæ Naturalis Principia Mathematica\" (Mathematical Principles of Natural Philosophy), published in 1687, Newton presented his law of universal gravitation. This law states that every point mass attracts every other point mass by a force acting along the line intersecting both points.\n",
      "\n",
      "While it's difficult to identify a single person as the \"first\" to discover gravitation, Sir Isaac Newton's work on universal gravitation is widely regarded as a major breakthrough in our understanding of the natural world.\n"
     ]
    }
   ],
   "source": [
    "from langchain_groq import ChatGroq\n",
    "\n",
    "llm = ChatGroq(\n",
    "    temperature=0, \n",
    "    groq_api_key='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', \n",
    "    model_name=\"llama-3.1-70b-versatile\"\n",
    ")\n",
    "\n",
    "response = llm.invoke(\"The first person to discover Gravitation ...\")\n",
    "print(response.content)"
   ]
  },
  {
   "cell_type": "code",
   "execution_count": null,
   "id": "ac9aa71d",
   "metadata": {},
   "outputs": [],
   "source": [
    "pip install -qU langchain-groq"
   ]
  },
  {
   "cell_type": "code",
   "execution_count": null,
   "id": "ce7e75ec",
   "metadata": {},
   "outputs": [],
   "source": []
  }
 ],
 "metadata": {
  "kernelspec": {
   "display_name": "Python 3 (ipykernel)",
   "language": "python",
   "name": "python3"
  },
  "language_info": {
   "codemirror_mode": {
    "name": "ipython",
    "version": 3
   },
   "file_extension": ".py",
   "mimetype": "text/x-python",
   "name": "python",
   "nbconvert_exporter": "python",
   "pygments_lexer": "ipython3",
   "version": "3.9.12"
  }
 },
 "nbformat": 4,
 "nbformat_minor": 5
}
